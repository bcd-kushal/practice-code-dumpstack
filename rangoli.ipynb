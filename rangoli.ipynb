{
  "nbformat": 4,
  "nbformat_minor": 0,
  "metadata": {
    "colab": {
      "provenance": [],
      "authorship_tag": "ABX9TyP24MTRJYOH2EtYS8qtXUp2",
      "include_colab_link": true
    },
    "kernelspec": {
      "name": "python3",
      "display_name": "Python 3"
    },
    "language_info": {
      "name": "python"
    }
  },
  "cells": [
    {
      "cell_type": "markdown",
      "metadata": {
        "id": "view-in-github",
        "colab_type": "text"
      },
      "source": [
        "<a href=\"https://colab.research.google.com/github/bcd-kushal/practice-code-dumpstack/blob/main/rangoli.ipynb\" target=\"_parent\"><img src=\"https://colab.research.google.com/assets/colab-badge.svg\" alt=\"Open In Colab\"/></a>"
      ]
    },
    {
      "cell_type": "code",
      "execution_count": 1,
      "metadata": {
        "colab": {
          "base_uri": "https://localhost:8080/"
        },
        "id": "CbsoI12MNnKH",
        "outputId": "9654e5b3-4a3e-4bb6-b63e-0e387735e154"
      },
      "outputs": [
        {
          "output_type": "stream",
          "name": "stdout",
          "text": [
            "Collecting ColabTurtle\n",
            "  Downloading ColabTurtle-2.1.0.tar.gz (6.8 kB)\n",
            "  Preparing metadata (setup.py) ... \u001b[?25l\u001b[?25hdone\n",
            "Building wheels for collected packages: ColabTurtle\n",
            "  Building wheel for ColabTurtle (setup.py) ... \u001b[?25l\u001b[?25hdone\n",
            "  Created wheel for ColabTurtle: filename=ColabTurtle-2.1.0-py3-none-any.whl size=7641 sha256=26b2b1d140877ff589298f9b367c9825894229194ea6d37053c615896a59cf73\n",
            "  Stored in directory: /root/.cache/pip/wheels/5b/86/e8/54f5c8c853606e3a3060bb2e60363cbed632374a12e0f33ffc\n",
            "Successfully built ColabTurtle\n",
            "Installing collected packages: ColabTurtle\n",
            "Successfully installed ColabTurtle-2.1.0\n"
          ]
        }
      ],
      "source": [
        "!pip3 install ColabTurtle\n",
        "import ColabTurtle.Turtle as t"
      ]
    },
    {
      "cell_type": "code",
      "source": [
        "# create rangoli\n",
        "\n",
        "def createRangoli():\n",
        "    for i in range(24):\n",
        "        createPentagon()\n",
        "        t.right(15)\n",
        "\n",
        "\n",
        "def createPentagon():\n",
        "    for i in range(5):\n",
        "        t.forward(100)\n",
        "        t.right(72)\n",
        "\n",
        "\n",
        "t.initializeTurtle()\n",
        "t.bgcolor(45,21,86)\n",
        "t.speed(7)\n",
        "#interior angle of pentagon = 108\n",
        "#--> exterior is 72\n",
        "\n",
        "createRangoli()\n"
      ],
      "metadata": {
        "colab": {
          "base_uri": "https://localhost:8080/",
          "height": 521
        },
        "id": "AHY3Nlq-Nw4R",
        "outputId": "84d7ffb5-b26a-43a4-edb9-cc9dcb117601"
      },
      "execution_count": 4,
      "outputs": [
        {
          "output_type": "display_data",
          "data": {
            "text/plain": [
              "<IPython.core.display.HTML object>"
            ],
            "text/html": [
              "\n",
              "      <svg width=\"800\" height=\"500\">\n",
              "        <rect width=\"100%\" height=\"100%\" fill=\"rgb(45,21,86)\"/>\n",
              "        <line x1=\"400\" y1=\"250\" x2=\"400.0\" y2=\"150.0\" stroke-linecap=\"round\" style=\"stroke:white;stroke-width:4\"/><line x1=\"400.0\" y1=\"150.0\" x2=\"495.106\" y2=\"119.098\" stroke-linecap=\"round\" style=\"stroke:white;stroke-width:4\"/><line x1=\"495.106\" y1=\"119.098\" x2=\"553.885\" y2=\"200.0\" stroke-linecap=\"round\" style=\"stroke:white;stroke-width:4\"/><line x1=\"553.885\" y1=\"200.0\" x2=\"495.106\" y2=\"280.902\" stroke-linecap=\"round\" style=\"stroke:white;stroke-width:4\"/><line x1=\"495.106\" y1=\"280.902\" x2=\"400.0\" y2=\"250.0\" stroke-linecap=\"round\" style=\"stroke:white;stroke-width:4\"/><line x1=\"400.0\" y1=\"250.0\" x2=\"425.882\" y2=\"153.407\" stroke-linecap=\"round\" style=\"stroke:white;stroke-width:4\"/><line x1=\"425.882\" y1=\"153.407\" x2=\"525.745\" y2=\"148.173\" stroke-linecap=\"round\" style=\"stroke:white;stroke-width:4\"/><line x1=\"525.745\" y1=\"148.173\" x2=\"561.582\" y2=\"241.531\" stroke-linecap=\"round\" style=\"stroke:white;stroke-width:4\"/><line x1=\"561.582\" y1=\"241.531\" x2=\"483.867\" y2=\"304.463\" stroke-linecap=\"round\" style=\"stroke:white;stroke-width:4\"/><line x1=\"483.867\" y1=\"304.463\" x2=\"400.0\" y2=\"249.999\" stroke-linecap=\"round\" style=\"stroke:white;stroke-width:4\"/><line x1=\"400.0\" y1=\"249.999\" x2=\"450.0\" y2=\"163.396\" stroke-linecap=\"round\" style=\"stroke:white;stroke-width:4\"/><line x1=\"450.0\" y1=\"163.396\" x2=\"547.815\" y2=\"184.187\" stroke-linecap=\"round\" style=\"stroke:white;stroke-width:4\"/><line x1=\"547.815\" y1=\"184.187\" x2=\"558.268\" y2=\"283.639\" stroke-linecap=\"round\" style=\"stroke:white;stroke-width:4\"/><line x1=\"558.268\" y1=\"283.639\" x2=\"466.913\" y2=\"324.313\" stroke-linecap=\"round\" style=\"stroke:white;stroke-width:4\"/><line x1=\"466.913\" y1=\"324.313\" x2=\"400.0\" y2=\"249.999\" stroke-linecap=\"round\" style=\"stroke:white;stroke-width:4\"/><line x1=\"400.0\" y1=\"249.999\" x2=\"470.711\" y2=\"179.288\" stroke-linecap=\"round\" style=\"stroke:white;stroke-width:4\"/><line x1=\"470.711\" y1=\"179.288\" x2=\"559.812\" y2=\"224.687\" stroke-linecap=\"round\" style=\"stroke:white;stroke-width:4\"/><line x1=\"559.812\" y1=\"224.687\" x2=\"544.169\" y2=\"323.456\" stroke-linecap=\"round\" style=\"stroke:white;stroke-width:4\"/><line x1=\"544.169\" y1=\"323.456\" x2=\"445.4\" y2=\"339.099\" stroke-linecap=\"round\" style=\"stroke:white;stroke-width:4\"/><line x1=\"445.4\" y1=\"339.099\" x2=\"400.001\" y2=\"249.998\" stroke-linecap=\"round\" style=\"stroke:white;stroke-width:4\"/><line x1=\"400.001\" y1=\"249.998\" x2=\"486.604\" y2=\"199.998\" stroke-linecap=\"round\" style=\"stroke:white;stroke-width:4\"/><line x1=\"486.604\" y1=\"199.998\" x2=\"560.918\" y2=\"266.911\" stroke-linecap=\"round\" style=\"stroke:white;stroke-width:4\"/><line x1=\"560.918\" y1=\"266.911\" x2=\"520.244\" y2=\"358.266\" stroke-linecap=\"round\" style=\"stroke:white;stroke-width:4\"/><line x1=\"520.244\" y1=\"358.266\" x2=\"420.792\" y2=\"347.813\" stroke-linecap=\"round\" style=\"stroke:white;stroke-width:4\"/><line x1=\"420.792\" y1=\"347.813\" x2=\"400.001\" y2=\"249.998\" stroke-linecap=\"round\" style=\"stroke:white;stroke-width:4\"/><line x1=\"400.001\" y1=\"249.998\" x2=\"496.594\" y2=\"224.116\" stroke-linecap=\"round\" style=\"stroke:white;stroke-width:4\"/><line x1=\"496.594\" y1=\"224.116\" x2=\"551.058\" y2=\"307.983\" stroke-linecap=\"round\" style=\"stroke:white;stroke-width:4\"/><line x1=\"551.058\" y1=\"307.983\" x2=\"488.126\" y2=\"385.698\" stroke-linecap=\"round\" style=\"stroke:white;stroke-width:4\"/><line x1=\"488.126\" y1=\"385.698\" x2=\"394.768\" y2=\"349.861\" stroke-linecap=\"round\" style=\"stroke:white;stroke-width:4\"/><line x1=\"394.768\" y1=\"349.861\" x2=\"400.002\" y2=\"249.998\" stroke-linecap=\"round\" style=\"stroke:white;stroke-width:4\"/><line x1=\"400.002\" y1=\"249.998\" x2=\"500.002\" y2=\"249.998\" stroke-linecap=\"round\" style=\"stroke:white;stroke-width:4\"/><line x1=\"500.002\" y1=\"249.998\" x2=\"530.904\" y2=\"345.104\" stroke-linecap=\"round\" style=\"stroke:white;stroke-width:4\"/><line x1=\"530.904\" y1=\"345.104\" x2=\"450.002\" y2=\"403.883\" stroke-linecap=\"round\" style=\"stroke:white;stroke-width:4\"/><line x1=\"450.002\" y1=\"403.883\" x2=\"369.1\" y2=\"345.104\" stroke-linecap=\"round\" style=\"stroke:white;stroke-width:4\"/><line x1=\"369.1\" y1=\"345.104\" x2=\"400.002\" y2=\"249.998\" stroke-linecap=\"round\" style=\"stroke:white;stroke-width:4\"/><line x1=\"400.002\" y1=\"249.998\" x2=\"496.595\" y2=\"275.88\" stroke-linecap=\"round\" style=\"stroke:white;stroke-width:4\"/><line x1=\"496.595\" y1=\"275.88\" x2=\"501.829\" y2=\"375.743\" stroke-linecap=\"round\" style=\"stroke:white;stroke-width:4\"/><line x1=\"501.829\" y1=\"375.743\" x2=\"408.471\" y2=\"411.58\" stroke-linecap=\"round\" style=\"stroke:white;stroke-width:4\"/><line x1=\"408.471\" y1=\"411.58\" x2=\"345.539\" y2=\"333.865\" stroke-linecap=\"round\" style=\"stroke:white;stroke-width:4\"/><line x1=\"345.539\" y1=\"333.865\" x2=\"400.003\" y2=\"249.998\" stroke-linecap=\"round\" style=\"stroke:white;stroke-width:4\"/><line x1=\"400.003\" y1=\"249.998\" x2=\"486.606\" y2=\"299.998\" stroke-linecap=\"round\" style=\"stroke:white;stroke-width:4\"/><line x1=\"486.606\" y1=\"299.998\" x2=\"465.815\" y2=\"397.813\" stroke-linecap=\"round\" style=\"stroke:white;stroke-width:4\"/><line x1=\"465.815\" y1=\"397.813\" x2=\"366.363\" y2=\"408.266\" stroke-linecap=\"round\" style=\"stroke:white;stroke-width:4\"/><line x1=\"366.363\" y1=\"408.266\" x2=\"325.689\" y2=\"316.911\" stroke-linecap=\"round\" style=\"stroke:white;stroke-width:4\"/><line x1=\"325.689\" y1=\"316.911\" x2=\"400.003\" y2=\"249.998\" stroke-linecap=\"round\" style=\"stroke:white;stroke-width:4\"/><line x1=\"400.003\" y1=\"249.998\" x2=\"470.714\" y2=\"320.709\" stroke-linecap=\"round\" style=\"stroke:white;stroke-width:4\"/><line x1=\"470.714\" y1=\"320.709\" x2=\"425.315\" y2=\"409.81\" stroke-linecap=\"round\" style=\"stroke:white;stroke-width:4\"/><line x1=\"425.315\" y1=\"409.81\" x2=\"326.546\" y2=\"394.167\" stroke-linecap=\"round\" style=\"stroke:white;stroke-width:4\"/><line x1=\"326.546\" y1=\"394.167\" x2=\"310.903\" y2=\"295.398\" stroke-linecap=\"round\" style=\"stroke:white;stroke-width:4\"/><line x1=\"310.903\" y1=\"295.398\" x2=\"400.004\" y2=\"249.999\" stroke-linecap=\"round\" style=\"stroke:white;stroke-width:4\"/><line x1=\"400.004\" y1=\"249.999\" x2=\"450.004\" y2=\"336.602\" stroke-linecap=\"round\" style=\"stroke:white;stroke-width:4\"/><line x1=\"450.004\" y1=\"336.602\" x2=\"383.091\" y2=\"410.916\" stroke-linecap=\"round\" style=\"stroke:white;stroke-width:4\"/><line x1=\"383.091\" y1=\"410.916\" x2=\"291.736\" y2=\"370.242\" stroke-linecap=\"round\" style=\"stroke:white;stroke-width:4\"/><line x1=\"291.736\" y1=\"370.242\" x2=\"302.189\" y2=\"270.79\" stroke-linecap=\"round\" style=\"stroke:white;stroke-width:4\"/><line x1=\"302.189\" y1=\"270.79\" x2=\"400.004\" y2=\"249.999\" stroke-linecap=\"round\" style=\"stroke:white;stroke-width:4\"/><line x1=\"400.004\" y1=\"249.999\" x2=\"425.886\" y2=\"346.592\" stroke-linecap=\"round\" style=\"stroke:white;stroke-width:4\"/><line x1=\"425.886\" y1=\"346.592\" x2=\"342.019\" y2=\"401.056\" stroke-linecap=\"round\" style=\"stroke:white;stroke-width:4\"/><line x1=\"342.019\" y1=\"401.056\" x2=\"264.304\" y2=\"338.124\" stroke-linecap=\"round\" style=\"stroke:white;stroke-width:4\"/><line x1=\"264.304\" y1=\"338.124\" x2=\"300.141\" y2=\"244.766\" stroke-linecap=\"round\" style=\"stroke:white;stroke-width:4\"/><line x1=\"300.141\" y1=\"244.766\" x2=\"400.004\" y2=\"250.0\" stroke-linecap=\"round\" style=\"stroke:white;stroke-width:4\"/><line x1=\"400.004\" y1=\"250.0\" x2=\"400.004\" y2=\"350.0\" stroke-linecap=\"round\" style=\"stroke:white;stroke-width:4\"/><line x1=\"400.004\" y1=\"350.0\" x2=\"304.898\" y2=\"380.902\" stroke-linecap=\"round\" style=\"stroke:white;stroke-width:4\"/><line x1=\"304.898\" y1=\"380.902\" x2=\"246.119\" y2=\"300.0\" stroke-linecap=\"round\" style=\"stroke:white;stroke-width:4\"/><line x1=\"246.119\" y1=\"300.0\" x2=\"304.898\" y2=\"219.098\" stroke-linecap=\"round\" style=\"stroke:white;stroke-width:4\"/><line x1=\"304.898\" y1=\"219.098\" x2=\"400.004\" y2=\"250.0\" stroke-linecap=\"round\" style=\"stroke:white;stroke-width:4\"/><line x1=\"400.004\" y1=\"250.0\" x2=\"374.122\" y2=\"346.593\" stroke-linecap=\"round\" style=\"stroke:white;stroke-width:4\"/><line x1=\"374.122\" y1=\"346.593\" x2=\"274.259\" y2=\"351.827\" stroke-linecap=\"round\" style=\"stroke:white;stroke-width:4\"/><line x1=\"274.259\" y1=\"351.827\" x2=\"238.422\" y2=\"258.469\" stroke-linecap=\"round\" style=\"stroke:white;stroke-width:4\"/><line x1=\"238.422\" y1=\"258.469\" x2=\"316.137\" y2=\"195.537\" stroke-linecap=\"round\" style=\"stroke:white;stroke-width:4\"/><line x1=\"316.137\" y1=\"195.537\" x2=\"400.004\" y2=\"250.001\" stroke-linecap=\"round\" style=\"stroke:white;stroke-width:4\"/><line x1=\"400.004\" y1=\"250.001\" x2=\"350.004\" y2=\"336.604\" stroke-linecap=\"round\" style=\"stroke:white;stroke-width:4\"/><line x1=\"350.004\" y1=\"336.604\" x2=\"252.189\" y2=\"315.813\" stroke-linecap=\"round\" style=\"stroke:white;stroke-width:4\"/><line x1=\"252.189\" y1=\"315.813\" x2=\"241.736\" y2=\"216.361\" stroke-linecap=\"round\" style=\"stroke:white;stroke-width:4\"/><line x1=\"241.736\" y1=\"216.361\" x2=\"333.091\" y2=\"175.687\" stroke-linecap=\"round\" style=\"stroke:white;stroke-width:4\"/><line x1=\"333.091\" y1=\"175.687\" x2=\"400.004\" y2=\"250.001\" stroke-linecap=\"round\" style=\"stroke:white;stroke-width:4\"/><line x1=\"400.004\" y1=\"250.001\" x2=\"329.293\" y2=\"320.712\" stroke-linecap=\"round\" style=\"stroke:white;stroke-width:4\"/><line x1=\"329.293\" y1=\"320.712\" x2=\"240.192\" y2=\"275.313\" stroke-linecap=\"round\" style=\"stroke:white;stroke-width:4\"/><line x1=\"240.192\" y1=\"275.313\" x2=\"255.835\" y2=\"176.544\" stroke-linecap=\"round\" style=\"stroke:white;stroke-width:4\"/><line x1=\"255.835\" y1=\"176.544\" x2=\"354.604\" y2=\"160.901\" stroke-linecap=\"round\" style=\"stroke:white;stroke-width:4\"/><line x1=\"354.604\" y1=\"160.901\" x2=\"400.003\" y2=\"250.002\" stroke-linecap=\"round\" style=\"stroke:white;stroke-width:4\"/><line x1=\"400.003\" y1=\"250.002\" x2=\"313.4\" y2=\"300.002\" stroke-linecap=\"round\" style=\"stroke:white;stroke-width:4\"/><line x1=\"313.4\" y1=\"300.002\" x2=\"239.086\" y2=\"233.089\" stroke-linecap=\"round\" style=\"stroke:white;stroke-width:4\"/><line x1=\"239.086\" y1=\"233.089\" x2=\"279.76\" y2=\"141.734\" stroke-linecap=\"round\" style=\"stroke:white;stroke-width:4\"/><line x1=\"279.76\" y1=\"141.734\" x2=\"379.212\" y2=\"152.187\" stroke-linecap=\"round\" style=\"stroke:white;stroke-width:4\"/><line x1=\"379.212\" y1=\"152.187\" x2=\"400.003\" y2=\"250.002\" stroke-linecap=\"round\" style=\"stroke:white;stroke-width:4\"/><line x1=\"400.003\" y1=\"250.002\" x2=\"303.41\" y2=\"275.884\" stroke-linecap=\"round\" style=\"stroke:white;stroke-width:4\"/><line x1=\"303.41\" y1=\"275.884\" x2=\"248.946\" y2=\"192.017\" stroke-linecap=\"round\" style=\"stroke:white;stroke-width:4\"/><line x1=\"248.946\" y1=\"192.017\" x2=\"311.878\" y2=\"114.302\" stroke-linecap=\"round\" style=\"stroke:white;stroke-width:4\"/><line x1=\"311.878\" y1=\"114.302\" x2=\"405.236\" y2=\"150.139\" stroke-linecap=\"round\" style=\"stroke:white;stroke-width:4\"/><line x1=\"405.236\" y1=\"150.139\" x2=\"400.002\" y2=\"250.002\" stroke-linecap=\"round\" style=\"stroke:white;stroke-width:4\"/><line x1=\"400.002\" y1=\"250.002\" x2=\"300.002\" y2=\"250.002\" stroke-linecap=\"round\" style=\"stroke:white;stroke-width:4\"/><line x1=\"300.002\" y1=\"250.002\" x2=\"269.1\" y2=\"154.896\" stroke-linecap=\"round\" style=\"stroke:white;stroke-width:4\"/><line x1=\"269.1\" y1=\"154.896\" x2=\"350.002\" y2=\"96.117\" stroke-linecap=\"round\" style=\"stroke:white;stroke-width:4\"/><line x1=\"350.002\" y1=\"96.117\" x2=\"430.904\" y2=\"154.896\" stroke-linecap=\"round\" style=\"stroke:white;stroke-width:4\"/><line x1=\"430.904\" y1=\"154.896\" x2=\"400.002\" y2=\"250.002\" stroke-linecap=\"round\" style=\"stroke:white;stroke-width:4\"/><line x1=\"400.002\" y1=\"250.002\" x2=\"303.409\" y2=\"224.12\" stroke-linecap=\"round\" style=\"stroke:white;stroke-width:4\"/><line x1=\"303.409\" y1=\"224.12\" x2=\"298.175\" y2=\"124.257\" stroke-linecap=\"round\" style=\"stroke:white;stroke-width:4\"/><line x1=\"298.175\" y1=\"124.257\" x2=\"391.533\" y2=\"88.42\" stroke-linecap=\"round\" style=\"stroke:white;stroke-width:4\"/><line x1=\"391.533\" y1=\"88.42\" x2=\"454.465\" y2=\"166.135\" stroke-linecap=\"round\" style=\"stroke:white;stroke-width:4\"/><line x1=\"454.465\" y1=\"166.135\" x2=\"400.001\" y2=\"250.002\" stroke-linecap=\"round\" style=\"stroke:white;stroke-width:4\"/><line x1=\"400.001\" y1=\"250.002\" x2=\"313.398\" y2=\"200.002\" stroke-linecap=\"round\" style=\"stroke:white;stroke-width:4\"/><line x1=\"313.398\" y1=\"200.002\" x2=\"334.189\" y2=\"102.187\" stroke-linecap=\"round\" style=\"stroke:white;stroke-width:4\"/><line x1=\"334.189\" y1=\"102.187\" x2=\"433.641\" y2=\"91.734\" stroke-linecap=\"round\" style=\"stroke:white;stroke-width:4\"/><line x1=\"433.641\" y1=\"91.734\" x2=\"474.315\" y2=\"183.089\" stroke-linecap=\"round\" style=\"stroke:white;stroke-width:4\"/><line x1=\"474.315\" y1=\"183.089\" x2=\"400.001\" y2=\"250.002\" stroke-linecap=\"round\" style=\"stroke:white;stroke-width:4\"/><line x1=\"400.001\" y1=\"250.002\" x2=\"329.29\" y2=\"179.291\" stroke-linecap=\"round\" style=\"stroke:white;stroke-width:4\"/><line x1=\"329.29\" y1=\"179.291\" x2=\"374.689\" y2=\"90.19\" stroke-linecap=\"round\" style=\"stroke:white;stroke-width:4\"/><line x1=\"374.689\" y1=\"90.19\" x2=\"473.458\" y2=\"105.833\" stroke-linecap=\"round\" style=\"stroke:white;stroke-width:4\"/><line x1=\"473.458\" y1=\"105.833\" x2=\"489.101\" y2=\"204.602\" stroke-linecap=\"round\" style=\"stroke:white;stroke-width:4\"/><line x1=\"489.101\" y1=\"204.602\" x2=\"400.0\" y2=\"250.001\" stroke-linecap=\"round\" style=\"stroke:white;stroke-width:4\"/><line x1=\"400.0\" y1=\"250.001\" x2=\"350.0\" y2=\"163.398\" stroke-linecap=\"round\" style=\"stroke:white;stroke-width:4\"/><line x1=\"350.0\" y1=\"163.398\" x2=\"416.913\" y2=\"89.084\" stroke-linecap=\"round\" style=\"stroke:white;stroke-width:4\"/><line x1=\"416.913\" y1=\"89.084\" x2=\"508.268\" y2=\"129.758\" stroke-linecap=\"round\" style=\"stroke:white;stroke-width:4\"/><line x1=\"508.268\" y1=\"129.758\" x2=\"497.815\" y2=\"229.21\" stroke-linecap=\"round\" style=\"stroke:white;stroke-width:4\"/><line x1=\"497.815\" y1=\"229.21\" x2=\"400.0\" y2=\"250.001\" stroke-linecap=\"round\" style=\"stroke:white;stroke-width:4\"/><line x1=\"400.0\" y1=\"250.001\" x2=\"374.118\" y2=\"153.408\" stroke-linecap=\"round\" style=\"stroke:white;stroke-width:4\"/><line x1=\"374.118\" y1=\"153.408\" x2=\"457.985\" y2=\"98.944\" stroke-linecap=\"round\" style=\"stroke:white;stroke-width:4\"/><line x1=\"457.985\" y1=\"98.944\" x2=\"535.7\" y2=\"161.876\" stroke-linecap=\"round\" style=\"stroke:white;stroke-width:4\"/><line x1=\"535.7\" y1=\"161.876\" x2=\"499.863\" y2=\"255.234\" stroke-linecap=\"round\" style=\"stroke:white;stroke-width:4\"/><line x1=\"499.863\" y1=\"255.234\" x2=\"400.0\" y2=\"250.0\" stroke-linecap=\"round\" style=\"stroke:white;stroke-width:4\"/>\n",
              "        <g visibility=visible transform=\"rotate(360,400.0,250.0) translate(382.0, 232.0)\">\n",
              "<path style=\" stroke:none;fill-rule:evenodd;fill:white;fill-opacity:1;\" d=\"M 18.214844 0.632812 C 16.109375 1.800781 15.011719 4.074219 15.074219 7.132812 L 15.085938 7.652344 L 14.785156 7.496094 C 13.476562 6.824219 11.957031 6.671875 10.40625 7.066406 C 8.46875 7.550781 6.515625 9.15625 4.394531 11.992188 C 3.0625 13.777344 2.679688 14.636719 3.042969 15.027344 L 3.15625 15.152344 L 3.519531 15.152344 C 4.238281 15.152344 4.828125 14.886719 8.1875 13.039062 C 9.386719 12.378906 10.371094 11.839844 10.378906 11.839844 C 10.386719 11.839844 10.355469 11.929688 10.304688 12.035156 C 9.832031 13.09375 9.257812 14.820312 8.96875 16.078125 C 7.914062 20.652344 8.617188 24.53125 11.070312 27.660156 C 11.351562 28.015625 11.363281 27.914062 10.972656 28.382812 C 8.925781 30.84375 7.945312 33.28125 8.238281 35.1875 C 8.289062 35.527344 8.28125 35.523438 8.917969 35.523438 C 10.941406 35.523438 13.074219 34.207031 15.136719 31.6875 C 15.359375 31.417969 15.328125 31.425781 15.5625 31.574219 C 16.292969 32.042969 18.023438 32.964844 18.175781 32.964844 C 18.335938 32.964844 19.941406 32.210938 20.828125 31.71875 C 20.996094 31.625 21.136719 31.554688 21.136719 31.558594 C 21.203125 31.664062 21.898438 32.414062 22.222656 32.730469 C 23.835938 34.300781 25.5625 35.132812 27.582031 35.300781 C 27.90625 35.328125 27.9375 35.308594 28.007812 34.984375 C 28.382812 33.242188 27.625 30.925781 25.863281 28.425781 L 25.542969 27.96875 L 25.699219 27.785156 C 28.945312 23.960938 29.132812 18.699219 26.257812 11.96875 L 26.207031 11.84375 L 27.945312 12.703125 C 31.53125 14.476562 32.316406 14.800781 33.03125 14.800781 C 33.976562 14.800781 33.78125 13.9375 32.472656 12.292969 C 28.519531 7.355469 25.394531 5.925781 21.921875 7.472656 L 21.558594 7.636719 L 21.578125 7.542969 C 21.699219 6.992188 21.761719 5.742188 21.699219 5.164062 C 21.496094 3.296875 20.664062 1.964844 19.003906 0.855469 C 18.480469 0.503906 18.457031 0.5 18.214844 0.632812\"/>\n",
              "</g>\n",
              "      </svg>\n",
              "    "
            ]
          },
          "metadata": {}
        }
      ]
    }
  ]
}